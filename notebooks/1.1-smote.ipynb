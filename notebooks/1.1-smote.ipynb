{
 "cells": [
  {
   "cell_type": "markdown",
   "metadata": {},
   "source": [
    "## SMOTE\n",
    "\n",
    "This file is part of the Verifying explainability of a deep learning tissue classifier trained on RNA-seq data project.\n",
    "\n",
    "Verifying explainability of a deep learning tissue classifier trained on RNA-seq data project is free software: you can redistribute it and/or modify\n",
    "it under the terms of the GNU General Public License as published by\n",
    "the Free Software Foundation, either version 3 of the License, or\n",
    "(at your option) any later version.\n",
    "\n",
    "\n",
    "Verifying explainability of a deep learning tissue classifier trained on RNA-seq data project is distributed in the hope that it will be useful,\n",
    "but WITHOUT ANY WARRANTY; without even the implied warranty of\n",
    "MERCHANTABILITY or FITNESS FOR A PARTICULAR PURPOSE.  See the\n",
    "GNU General Public License for more details.\n",
    "\n",
    "You should have received a copy of the GNU General Public License\n",
    "along with the Verifying explainability of a deep learning tissue classifier trained on RNA-seq data project.  If not, see <http://www.gnu.org/licenses/>.\n"
   ]
  },
  {
   "cell_type": "markdown",
   "metadata": {},
   "source": [
    "### Objective:\n",
    "> Apply SMOTE to GTEx dataset and perform oversampling\n",
    "\n",
    "### Input files:\n",
    "1. *gtex_filtered_tmm_intersect.pkl*\n",
    "\n",
    "\n",
    "### Output files:\n",
    "1. *gtex_filtered_tmm_intersect_smote.pkl* \n",
    "2. *gtex_filtered_tmm_intersect_test.pkl* \n",
    "3. *gtex_filtered_tmm_intersect_imbalanced.pkl* \n",
    " \n",
    "### Table of contents:\n",
    "1. [Import Modules](#1.-Import-Modules)  \n",
    "2. [Set static paths](#2.-Set-static-paths)  \n",
    "3. [Load files](#3.-Load-files)  \n",
    "    3.1 [Load RNAseq](#3.1-Load-RNAseq)  \n",
    "    3.2 [Load gene list](#3.2-Load-gene-list)  \n",
    "    3.3 [Load labels](#3.3-Load-labels)  \n",
    "4. [Train/test split](#4.-Train/test-split)  \n",
    "5. [Generate balanced dataset](#4.-Generate-balanced-dataset)  \n",
    "    5.1 [Oversampling via SMOTE](#5.1-Oversampling-via-SMOTE)  \n",
    "    5.2 [Load gene list](#3.2-Load-gene-list)  \n",
    "6. [Save outputs](#5.-Save-outputs) "
   ]
  },
  {
   "cell_type": "markdown",
   "metadata": {},
   "source": [
    "## 1. Import Modules"
   ]
  },
  {
   "cell_type": "code",
   "execution_count": null,
   "metadata": {},
   "outputs": [],
   "source": [
    "import pickle\n",
    "import os\n",
    "import pandas as pd\n",
    "import smote_variants as sv"
   ]
  },
  {
   "cell_type": "code",
   "execution_count": null,
   "metadata": {},
   "outputs": [],
   "source": [
    "# Specify max number of rows and columns to be displayed in dataframes\n",
    "pd.options.display.max_rows = 1999\n",
    "pd.options.display.max_columns = 1999\n",
    "\n",
    "# Display full output in notebook\n",
    "from IPython.core.interactiveshell import InteractiveShell\n",
    "InteractiveShell.ast_node_interactivity = \"all\""
   ]
  },
  {
   "cell_type": "markdown",
   "metadata": {},
   "source": [
    "## 2. Set static paths"
   ]
  },
  {
   "cell_type": "code",
   "execution_count": null,
   "metadata": {},
   "outputs": [],
   "source": [
    "interim_dir = '../data/interim/'\n",
    "proc_dir = '../data/processed/'"
   ]
  },
  {
   "cell_type": "markdown",
   "metadata": {},
   "source": [
    "## 3. Load files"
   ]
  },
  {
   "cell_type": "markdown",
   "metadata": {},
   "source": [
    "#### 3.1 Load RNAseq"
   ]
  },
  {
   "cell_type": "code",
   "execution_count": null,
   "metadata": {},
   "outputs": [],
   "source": [
    "%%time\n",
    "key = 'gtex_filtered_tmm_intersect.pkl'\n",
    "gtex_tmm = pickle.load(open(os.path.join(interim_dir, key), \"rb\"))"
   ]
  },
  {
   "cell_type": "markdown",
   "metadata": {},
   "source": [
    "## 4. Train/test split"
   ]
  },
  {
   "cell_type": "code",
   "execution_count": null,
   "metadata": {},
   "outputs": [],
   "source": [
    "tissue_type_list = sorted(gtex_tmm['type'].unique().tolist())"
   ]
  },
  {
   "cell_type": "code",
   "execution_count": null,
   "metadata": {},
   "outputs": [],
   "source": [
    "%%time\n",
    "\n",
    "# Construct test dataset matrix with exactly 50 samples per class\n",
    "df_test_data = pd.DataFrame()\n",
    "for tissue_type in tissue_type_list:\n",
    "    df_one_class = gtex_tmm[gtex_tmm['type'] == tissue_type].sample(n=50, random_state=42)\n",
    "    df_test_data = pd.concat([df_test_data, df_one_class])\n",
    "    \n",
    "# Construct train datast matrix with the remaining samples\n",
    "df_train_data = gtex_tmm.drop(df_test_data.index.tolist())"
   ]
  },
  {
   "cell_type": "code",
   "execution_count": null,
   "metadata": {},
   "outputs": [],
   "source": [
    "gtex_tmm_class_size_test_50 = pd.DataFrame()\n",
    "gtex_tmm_class_size_test_50['full_sample_size'] = gtex_tmm['type'].value_counts().sort_index()\n",
    "gtex_tmm_class_size_test_50['test'] = df_test_data['type'].value_counts().sort_index()\n",
    "gtex_tmm_class_size_test_50['imbalance'] = df_train_data['type'].value_counts().sort_index()\n",
    "gtex_tmm_class_size_test_50"
   ]
  },
  {
   "cell_type": "markdown",
   "metadata": {},
   "source": [
    "## 5. Generate balanced dataset"
   ]
  },
  {
   "cell_type": "code",
   "execution_count": null,
   "metadata": {},
   "outputs": [],
   "source": [
    "# SMOTE accepts target as numerical values only\n",
    "# Construct a dictionary of tissue type in string as keys and in numerical as values\n",
    "label_keys = gtex_tmm['type'].value_counts().sort_index().index.tolist()\n",
    "num_values = range(len(label_keys))\n",
    "label_num_dict = dict(zip(label_keys, num_values))\n",
    "label_num_dict"
   ]
  },
  {
   "cell_type": "markdown",
   "metadata": {},
   "source": [
    "#### 5.2 Oversampling via SMOTE"
   ]
  },
  {
   "cell_type": "code",
   "execution_count": null,
   "metadata": {},
   "outputs": [],
   "source": [
    "X = df_train_data.iloc[:,:-1]\n",
    "y = df_train_data.iloc[:,-1].map(label_num_dict)"
   ]
  },
  {
   "cell_type": "code",
   "execution_count": null,
   "metadata": {},
   "outputs": [],
   "source": [
    "%%time\n",
    "\n",
    "# Select SMOTE variants\n",
    "oversampler= sv.MulticlassOversampling(sv.SMOTE(n_jobs=2, random_state=42))\n",
    "\n",
    "# X_samp and y_samp contain the oversampled dataset\n",
    "X_samp, y_samp= oversampler.sample(X, y)"
   ]
  },
  {
   "cell_type": "code",
   "execution_count": null,
   "metadata": {},
   "outputs": [],
   "source": [
    "%%time\n",
    "\n",
    "# Rebuild oversampled dataset back from a numpy array into a dataframe\n",
    "df_smote = pd.DataFrame(data=X_samp, columns=df_train_data.columns[:-1])\n",
    "df_smote = df_smote.rename(index=lambda s: 'sample_' + str(s))\n",
    "\n",
    "# Reinsert labels as the last column\n",
    "label_num_dict_inv = {v: k for k, v in label_num_dict.items()}\n",
    "y_samp_str = []\n",
    "for num in y_samp:\n",
    "    y_samp_str.append(label_num_dict_inv[num])\n",
    "df_smote['type'] = y_samp_str"
   ]
  },
  {
   "cell_type": "code",
   "execution_count": null,
   "metadata": {},
   "outputs": [],
   "source": [
    "gtex_tmm_class_size_test_50['smote'] = df_smote['type'].value_counts().sort_index()\n",
    "gtex_tmm_class_size_test_50"
   ]
  },
  {
   "cell_type": "markdown",
   "metadata": {},
   "source": [
    "## 6. Save outputs"
   ]
  },
  {
   "cell_type": "code",
   "execution_count": null,
   "metadata": {},
   "outputs": [],
   "source": [
    "key = 'gtex_filtered_tmm_intersect_smote.pkl'\n",
    "pickle.dump(df_smote, open(os.path.join(proc_dir, key),\"wb\"), protocol=4)"
   ]
  },
  {
   "cell_type": "code",
   "execution_count": null,
   "metadata": {},
   "outputs": [],
   "source": [
    "key = 'gtex_filtered_tmm_intersect_test.pkl'\n",
    "pickle.dump(df_test_data, open(os.path.join(proc_dir, key),\"wb\"), protocol=4)"
   ]
  },
  {
   "cell_type": "code",
   "execution_count": null,
   "metadata": {},
   "outputs": [],
   "source": [
    "key = 'gtex_filtered_tmm_intersect_imbalanced.pkl'\n",
    "pickle.dump(df_train_data, open(os.path.join(proc_dir, key),\"wb\"), protocol=4)"
   ]
  },
  {
   "cell_type": "code",
   "execution_count": null,
   "metadata": {},
   "outputs": [],
   "source": []
  }
 ],
 "metadata": {
  "kernelspec": {
   "display_name": "shapenv",
   "language": "python",
   "name": "shapenv"
  },
  "language_info": {
   "codemirror_mode": {
    "name": "ipython",
    "version": 3
   },
   "file_extension": ".py",
   "mimetype": "text/x-python",
   "name": "python",
   "nbconvert_exporter": "python",
   "pygments_lexer": "ipython3",
   "version": "3.7.9"
  }
 },
 "nbformat": 4,
 "nbformat_minor": 4
}