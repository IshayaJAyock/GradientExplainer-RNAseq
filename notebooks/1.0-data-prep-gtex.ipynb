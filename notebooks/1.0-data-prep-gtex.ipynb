{
 "cells": [
  {
   "cell_type": "markdown",
   "metadata": {},
   "source": [
    "# Data preperation: GTEx V8\n",
    "\n",
    "This file is part of the Verifying explainability of a deep learning tissue classifier trained on RNA-seq data project.\n",
    "\n",
    "Verifying explainability of a deep learning tissue classifier trained on RNA-seq data project is free software: you can redistribute it and/or modify\n",
    "it under the terms of the GNU General Public License as published by\n",
    "the Free Software Foundation, either version 3 of the License, or\n",
    "(at your option) any later version.\n",
    "\n",
    "\n",
    "Verifying explainability of a deep learning tissue classifier trained on RNA-seq data project is distributed in the hope that it will be useful,\n",
    "but WITHOUT ANY WARRANTY; without even the implied warranty of\n",
    "MERCHANTABILITY or FITNESS FOR A PARTICULAR PURPOSE.  See the\n",
    "GNU General Public License for more details.\n",
    "\n",
    "You should have received a copy of the GNU General Public License\n",
    "along with the Verifying explainability of a deep learning tissue classifier trained on RNA-seq data project.  If not, see <http://www.gnu.org/licenses/>."
   ]
  },
  {
   "cell_type": "markdown",
   "metadata": {},
   "source": [
    "### Objective:\n",
    "> Load files from raw data folder, filter genes and merge with labels before saving file interim data folder\n",
    "\n",
    "### Input files:\n",
    "1. *GTEx_v8_TMM_values_protein_coding_filtered.tsv*\n",
    "2. *filtered_genes.pkl*\n",
    "3. *GTEx_v8_metadata_filtered.tsv*\n",
    "\n",
    "### Output files:\n",
    "1. *gtex_filtered_tmm_intersect.pkl*  \n",
    " \n",
    "### Table of contents:\n",
    "1. [Import Modules](#1.-Import-Modules)  \n",
    "2. [Set static paths](#2.-Set-static-paths)  \n",
    "3. [Load files](#3.-Load-files)  \n",
    "    3.1 [Load RNAseq](#3.1-Load-RNAseq)  \n",
    "    3.2 [Load gene list](#3.2-Load-gene-list)  \n",
    "    3.3 [Load labels](#3.3-Load-labels)  \n",
    "4. [Process data](#4.-Process-data)  \n",
    "    4.1 [Reshape dataframe](#4.1-Reshape-dataframe)  \n",
    "    4.2 [Filter genes](#4.2-Filter-genes)  \n",
    "    4.3 [Add labels](#4.3-Add-labels)\n",
    "5. [Save outputs](#5.-Save-outputs) "
   ]
  },
  {
   "cell_type": "markdown",
   "metadata": {},
   "source": [
    "## 1. Import Modules"
   ]
  },
  {
   "cell_type": "code",
   "execution_count": null,
   "metadata": {},
   "outputs": [],
   "source": [
    "import pandas as pd\n",
    "import os\n",
    "import pickle"
   ]
  },
  {
   "cell_type": "code",
   "execution_count": null,
   "metadata": {},
   "outputs": [],
   "source": [
    "# Specify max number of rows and columns to be displayed in dataframes\n",
    "pd.options.display.max_rows = 1999\n",
    "pd.options.display.max_columns = 1999\n",
    "\n",
    "# Display full output in notebook\n",
    "from IPython.core.interactiveshell import InteractiveShell\n",
    "InteractiveShell.ast_node_interactivity = \"all\""
   ]
  },
  {
   "cell_type": "markdown",
   "metadata": {},
   "source": [
    "## 2. Set static paths"
   ]
  },
  {
   "cell_type": "code",
   "execution_count": null,
   "metadata": {},
   "outputs": [],
   "source": [
    "local_dir = '../data/raw/'\n",
    "gene_dir = \"../data/gene_lists/\"\n",
    "raw_dir = \"../data/raw/\"\n",
    "interim_dir = '../data/interim/'"
   ]
  },
  {
   "cell_type": "markdown",
   "metadata": {},
   "source": [
    "## 3. Load files"
   ]
  },
  {
   "cell_type": "markdown",
   "metadata": {},
   "source": [
    "#### 3.1 Load RNAseq"
   ]
  },
  {
   "cell_type": "code",
   "execution_count": null,
   "metadata": {},
   "outputs": [],
   "source": [
    "%%time\n",
    "\n",
    "key = 'GTEx_v8_TMM_values_protein_coding_filtered.tsv'\n",
    "gtex_tmm_filter_raw = pd.read_csv(os.path.join(local_dir, key), sep='\\t')"
   ]
  },
  {
   "cell_type": "markdown",
   "metadata": {},
   "source": [
    "#### 3.2 Load gene list"
   ]
  },
  {
   "cell_type": "code",
   "execution_count": null,
   "metadata": {},
   "outputs": [],
   "source": [
    "key = 'filtered_genes.pkl'\n",
    "with open(os.path.join(gene_dir, key),\"rb\") as f:\n",
    "    tmm_tpm_intersect = pickle.load(f)"
   ]
  },
  {
   "cell_type": "markdown",
   "metadata": {},
   "source": [
    "#### 3.3 Load labels"
   ]
  },
  {
   "cell_type": "code",
   "execution_count": null,
   "metadata": {},
   "outputs": [],
   "source": [
    "%%time\n",
    "key = 'GTEx_v8_metadata_filtered.tsv'\n",
    "GTEx_v8_metadata_filtered = pd.read_csv(os.path.join(raw_dir, key), sep='\\t')\n",
    "GTEx_v8_metadata_filtered.shape\n",
    "GTEx_v8_metadata_filtered.head()"
   ]
  },
  {
   "cell_type": "markdown",
   "metadata": {},
   "source": [
    "## 4. Process data"
   ]
  },
  {
   "cell_type": "markdown",
   "metadata": {},
   "source": [
    "#### 4.1 Reshape dataframe"
   ]
  },
  {
   "cell_type": "code",
   "execution_count": null,
   "metadata": {},
   "outputs": [],
   "source": [
    "gtex_tmm_filter_intersect = gtex_tmm_filter_raw.set_index('Associated.Gene.Name')\n",
    "gtex_tmm_filter_intersect.index.name = None\n",
    "gtex_tmm_filter_intersect = gtex_tmm_filter_intersect.drop(columns=['Gene.Name','Gene.Biotype','Chromosome.Name','Gene.Start.bp','Gene.End.bp','Strand'])\n",
    "gtex_tmm_filter_intersect = gtex_tmm_filter_intersect.T"
   ]
  },
  {
   "cell_type": "markdown",
   "metadata": {},
   "source": [
    "#### 4.2 Filter genes"
   ]
  },
  {
   "cell_type": "code",
   "execution_count": null,
   "metadata": {},
   "outputs": [],
   "source": [
    "gtex_tmm_filter_intersect = gtex_tmm_filter_intersect.loc[:,tmm_tpm_intersect]"
   ]
  },
  {
   "cell_type": "markdown",
   "metadata": {},
   "source": [
    "#### 4.3 Add labels"
   ]
  },
  {
   "cell_type": "code",
   "execution_count": null,
   "metadata": {},
   "outputs": [],
   "source": [
    "GTEx_v8_metadata_filtered['Sample.ID'].tolist() == gtex_tmm_filter_intersect.index.tolist()"
   ]
  },
  {
   "cell_type": "code",
   "execution_count": null,
   "metadata": {},
   "outputs": [],
   "source": [
    "gtex_tmm_filter_intersect['type'] = GTEx_v8_metadata_filtered['Sample.Type.Specific'].tolist()"
   ]
  },
  {
   "cell_type": "code",
   "execution_count": null,
   "metadata": {},
   "outputs": [],
   "source": [
    "# Check that labels have been attached to main df\n",
    "gtex_tmm_filter_intersect['type'].value_counts().sort_index()"
   ]
  },
  {
   "cell_type": "markdown",
   "metadata": {},
   "source": [
    "## 5. Save outputs"
   ]
  },
  {
   "cell_type": "code",
   "execution_count": null,
   "metadata": {},
   "outputs": [],
   "source": [
    "key = 'gtex_filtered_tmm_intersect.pkl'\n",
    "\n",
    "pickle.dump(gtex_tmm_filter_intersect, open(os.path.join(local_dir, key),\"wb\"), protocol=4)"
   ]
  }
 ],
 "metadata": {
  "kernelspec": {
   "display_name": "shapenv",
   "language": "python",
   "name": "shapenv"
  },
  "language_info": {
   "codemirror_mode": {
    "name": "ipython",
    "version": 3
   },
   "file_extension": ".py",
   "mimetype": "text/x-python",
   "name": "python",
   "nbconvert_exporter": "python",
   "pygments_lexer": "ipython3",
   "version": "3.7.9"
  }
 },
 "nbformat": 4,
 "nbformat_minor": 4
}