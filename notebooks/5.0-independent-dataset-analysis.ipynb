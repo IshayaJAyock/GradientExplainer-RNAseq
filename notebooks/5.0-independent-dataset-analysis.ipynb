{
 "cells": [
  {
   "cell_type": "markdown",
   "metadata": {},
   "source": [
    "# CNN Performance in Independant Set\n",
    "\n",
    "This file is part of the Verifying explainability of a deep learning tissue classifier trained on RNA-seq data project.\n",
    "\n",
    "Verifying explainability of a deep learning tissue classifier trained on RNA-seq data project is free software: you can redistribute it and/or modify\n",
    "it under the terms of the GNU General Public License as published by\n",
    "the Free Software Foundation, either version 3 of the License, or\n",
    "(at your option) any later version.\n",
    "\n",
    "\n",
    "Verifying explainability of a deep learning tissue classifier trained on RNA-seq data project is distributed in the hope that it will be useful,\n",
    "but WITHOUT ANY WARRANTY; without even the implied warranty of\n",
    "MERCHANTABILITY or FITNESS FOR A PARTICULAR PURPOSE.  See the\n",
    "GNU General Public License for more details.\n",
    "\n",
    "You should have received a copy of the GNU General Public License\n",
    "along with the Verifying explainability of a deep learning tissue classifier trained on RNA-seq data project.  If not, see <http://www.gnu.org/licenses/>.\n"
   ]
  },
  {
   "cell_type": "markdown",
   "metadata": {},
   "source": [
    "### Objective:\n",
    "> Load HPA dataset and compare to GTEx dataset using UMAP and CNN performance\n",
    "\n",
    "### Input files:\n",
    "1. *gtex_filtered_tmm_intersect_{data_type}.pkl*\n",
    "2. *ndependent_log2_tmm_update.pkl*\n",
    "3. *filtered_genes.pkl*\n",
    "\n",
    "### Output files:\n",
    "1. *all_genes_umap_hpa_{data_type}.svg*  \n",
    " \n",
    "### Table of contents:\n",
    "1. [Import Modules](#1.-Import-Modules)  \n",
    "2. [Set static paths](#2.-Set-static-paths)  \n",
    "3. [Load files](#3.-Load-files)  \n",
    "    3.1 [Load GTEx RNAseq](#3.1-Load-GTEx-RNAseq)  \n",
    "    3.2 [Load HPA RNAseq](#3.1-Load-HPA-RNAseq)  \n",
    "    3.3 [Load gene list](#3.2-Load-gene-list)  \n",
    "4. [Process data](#4.-Process-data)  \n",
    "    4.1 [Reshape dataframe](#4.1-Reshape-dataframe)  \n",
    "    4.2 [Filter genes](#4.2-Filter-genes)  \n",
    "    4.3 [Add labels](#4.3-Add-labels)\n",
    "5. [Save outputs](#5.-Save-outputs) "
   ]
  },
  {
   "cell_type": "markdown",
   "metadata": {},
   "source": [
    "## 1. Import Modules"
   ]
  },
  {
   "cell_type": "code",
   "execution_count": null,
   "metadata": {},
   "outputs": [],
   "source": [
    "import os\n",
    "util_path = '../src'\n",
    "os.chdir(util_path)"
   ]
  },
  {
   "cell_type": "code",
   "execution_count": null,
   "metadata": {},
   "outputs": [],
   "source": [
    "import pickle\n",
    "from modelling.cnn import log_transform\n",
    "import umap\n",
    "import pandas as pd\n",
    "import matplotlib.pyplot as plt\n",
    "from matplotlib.pyplot import figure \n",
    "import numpy as np\n",
    "\n",
    "from keras import backend as K\n",
    "from keras.models import model_from_json\n",
    "from sklearn.preprocessing import LabelBinarizer\n",
    "from sklearn.metrics import f1_score\n",
    "\n",
    "from modelling.cnn import convert_2d, convert_onehot, keras_cnn, log_transform"
   ]
  },
  {
   "cell_type": "code",
   "execution_count": null,
   "metadata": {},
   "outputs": [],
   "source": [
    "%load_ext autoreload\n",
    "%autoreload 2"
   ]
  },
  {
   "cell_type": "markdown",
   "metadata": {},
   "source": [
    "## 2. Set static paths"
   ]
  },
  {
   "cell_type": "code",
   "execution_count": null,
   "metadata": {},
   "outputs": [],
   "source": [
    "data_type = \"imbalanced\"\n",
    "data_dir = \"../data/\""
   ]
  },
  {
   "cell_type": "code",
   "execution_count": null,
   "metadata": {},
   "outputs": [],
   "source": [
    "input_dir = data_dir + \"processed/\"\n",
    "gene_dir = data_dir + \"gene_lists/\"\n",
    "fig_dir = \"../figures/\"\n",
    "output_dir = data_dir + \"proc/\"\n",
    "model_dir = \"../models/\""
   ]
  },
  {
   "cell_type": "markdown",
   "metadata": {},
   "source": [
    "## 3. Load files"
   ]
  },
  {
   "cell_type": "markdown",
   "metadata": {},
   "source": [
    "#### 3.1 Load GTEx RNAseq"
   ]
  },
  {
   "cell_type": "code",
   "execution_count": null,
   "metadata": {},
   "outputs": [],
   "source": [
    "## Test data\n",
    "with open(input_dir + f\"gtex_filtered_tmm_intersect_{data_type}.pkl\", \"rb\") as f:\n",
    "    gtex = pickle.load(f)"
   ]
  },
  {
   "cell_type": "markdown",
   "metadata": {},
   "source": [
    "#### 3.2 Load HPA RNAseq"
   ]
  },
  {
   "cell_type": "code",
   "execution_count": null,
   "metadata": {},
   "outputs": [],
   "source": [
    "## Test data\n",
    "with open(input_dir + \"independent_log2_tmm_update.pkl\", \"rb\") as f:\n",
    "    hpa = pickle.load(f)"
   ]
  },
  {
   "cell_type": "code",
   "execution_count": null,
   "metadata": {},
   "outputs": [],
   "source": [
    "gtex = log_transform(gtex, label=True)"
   ]
  },
  {
   "cell_type": "markdown",
   "metadata": {},
   "source": [
    "#### 3.3 Load gene list"
   ]
  },
  {
   "cell_type": "code",
   "execution_count": null,
   "metadata": {},
   "outputs": [],
   "source": [
    "## All genes\n",
    "with open(gene_dir + \"filtered_genes.pkl\", \"rb\") as f:\n",
    "    filtered_genes = pickle.load(f)"
   ]
  },
  {
   "cell_type": "code",
   "execution_count": null,
   "metadata": {},
   "outputs": [],
   "source": [
    "# remove duplicated gene\n",
    "filtered_genes.remove(\"SLURP2\")"
   ]
  },
  {
   "cell_type": "markdown",
   "metadata": {},
   "source": [
    "## 4. *."
   ]
  },
  {
   "cell_type": "code",
   "execution_count": null,
   "metadata": {},
   "outputs": [],
   "source": [
    "# GTEx\n",
    "gtex_filt = gtex.loc[:, filtered_genes]\n",
    "gtex_filt[\"type\"] = gtex.loc[:, \"type\"]"
   ]
  },
  {
   "cell_type": "code",
   "execution_count": null,
   "metadata": {},
   "outputs": [],
   "source": [
    "# HPA\n",
    "hpa_filt = hpa.loc[:, filtered_genes]\n",
    "hpa_filt[\"type\"] = hpa.loc[:, \"type\"]"
   ]
  },
  {
   "cell_type": "markdown",
   "metadata": {},
   "source": [
    "## 5. Apply UMAP"
   ]
  },
  {
   "cell_type": "markdown",
   "metadata": {},
   "source": [
    "#### 5.1 Prepare GTEx data for UMAP "
   ]
  },
  {
   "cell_type": "code",
   "execution_count": null,
   "metadata": {},
   "outputs": [],
   "source": [
    "unlabeled_df = gtex_filt.drop([\"type\"], axis=1)"
   ]
  },
  {
   "cell_type": "markdown",
   "metadata": {},
   "source": [
    "#### 5.2 Fit UMAP to GTEx"
   ]
  },
  {
   "cell_type": "code",
   "execution_count": null,
   "metadata": {},
   "outputs": [],
   "source": [
    "umapfit = umap.UMAP(n_components=2, random_state=42)"
   ]
  },
  {
   "cell_type": "code",
   "execution_count": null,
   "metadata": {},
   "outputs": [],
   "source": [
    "%%time\n",
    "umapfit.fit(unlabeled_df)"
   ]
  },
  {
   "cell_type": "markdown",
   "metadata": {},
   "source": [
    "#### 5.3 Transform GTEx using UMAP"
   ]
  },
  {
   "cell_type": "code",
   "execution_count": null,
   "metadata": {},
   "outputs": [],
   "source": [
    "v = umapfit.transform(unlabeled_df)"
   ]
  },
  {
   "cell_type": "markdown",
   "metadata": {},
   "source": [
    "#### 5.4 Prepare GTEx UMAP transformed data for plotting"
   ]
  },
  {
   "cell_type": "code",
   "execution_count": null,
   "metadata": {},
   "outputs": [],
   "source": [
    "df_subset = pd.DataFrame(gtex_filt[\"type\"], index = gtex_filt.index)\n",
    "df_subset[\"umap-2d-one\"] = v[:, 0]\n",
    "df_subset[\"umap-2d-two\"] = v[:, 1]\n",
    "df_subset[\"dataset\"]=\"GTEx\""
   ]
  },
  {
   "cell_type": "markdown",
   "metadata": {},
   "source": [
    "#### 5.5 Prepare HPA data for UMAP "
   ]
  },
  {
   "cell_type": "code",
   "execution_count": null,
   "metadata": {},
   "outputs": [],
   "source": [
    "unlabeled_df_ind = hpa_filt.drop([\"type\"], axis=1)"
   ]
  },
  {
   "cell_type": "markdown",
   "metadata": {},
   "source": [
    "#### 5.3 Transform HPA using UMAP"
   ]
  },
  {
   "cell_type": "code",
   "execution_count": null,
   "metadata": {},
   "outputs": [],
   "source": [
    "u = umapfit.transform(unlabeled_df_ind)"
   ]
  },
  {
   "cell_type": "markdown",
   "metadata": {},
   "source": [
    "#### 5.4 Prepare HPA UMAP transformed data for plotting"
   ]
  },
  {
   "cell_type": "code",
   "execution_count": null,
   "metadata": {},
   "outputs": [],
   "source": [
    "df_subset_ind = pd.DataFrame(hpa_filt[\"type\"], index = hpa_filt.index)\n",
    "df_subset_ind[\"umap-2d-one\"] = u[:, 0]\n",
    "df_subset_ind[\"umap-2d-two\"] = u[:, 1]\n",
    "df_subset_ind[\"dataset\"]=\"HPA\""
   ]
  },
  {
   "cell_type": "code",
   "execution_count": null,
   "metadata": {},
   "outputs": [],
   "source": [
    "df_subset_all = df_subset.append(df_subset_ind)"
   ]
  },
  {
   "cell_type": "markdown",
   "metadata": {},
   "source": [
    "#### 5.5 Plot"
   ]
  },
  {
   "cell_type": "code",
   "execution_count": null,
   "metadata": {},
   "outputs": [],
   "source": [
    "cdict = {\"HPA\":\"red\", \"GTEx\" : \"gray\"}"
   ]
  },
  {
   "cell_type": "code",
   "execution_count": null,
   "metadata": {},
   "outputs": [],
   "source": [
    "figure(num=None, figsize=(14, 14), dpi=80, facecolor=\"w\", edgecolor=\"k\")\n",
    "fig = plt.scatter(\n",
    "    x=df_subset_all[\"umap-2d-one\"],\n",
    "    y=df_subset_all[\"umap-2d-two\"],\n",
    "    c=df_subset_all[\"dataset\"].apply(lambda x: cdict[x]),    \n",
    "    s=2,\n",
    ")\n",
    "plt.axis(\"off\")\n",
    "file_path = fig_dir+f\"/all_genes_umap_hpa_{data_type}.svg\"\n",
    "plt.savefig(file_path)\n"
   ]
  },
  {
   "cell_type": "code",
   "execution_count": null,
   "metadata": {},
   "outputs": [],
   "source": [
    "X_test = hpa_filt.drop(\"type\", axis=1)\n",
    "y_test = hpa_filt[\"type\"]\n",
    "\n",
    "\n",
    "X_test = log_transform(X_test)\n",
    "X_test = convert_2d(X_test)\n",
    "\n",
    "lb = LabelBinarizer()\n",
    "lb.fit(y_test.values)"
   ]
  },
  {
   "cell_type": "markdown",
   "metadata": {},
   "source": [
    "## 6. Test performance of 2DCNN on HPA"
   ]
  },
  {
   "cell_type": "markdown",
   "metadata": {},
   "source": [
    "#### 6.1 Load model"
   ]
  },
  {
   "cell_type": "code",
   "execution_count": null,
   "metadata": {},
   "outputs": [],
   "source": [
    "# Load model beatifully\n",
    "model_json_path = model_dir+f\"{data_type}_model_topology.json\"\n",
    "trained_model = model_from_json(\n",
    "    open(model_json_path, \"r\").read()\n",
    ")\n",
    "\n",
    "# load weights into new model\n",
    "model_weights_path = model_dir+f\"{data_type}_model_weights.hdf5\"\n",
    "trained_model.load_weights(model_weights_path)"
   ]
  },
  {
   "cell_type": "markdown",
   "metadata": {},
   "source": [
    "#### 6.2 Run predictions"
   ]
  },
  {
   "cell_type": "code",
   "execution_count": null,
   "metadata": {},
   "outputs": [],
   "source": [
    "# Run predictions and add everything to a giant DataFrame\n",
    "y_preds = trained_model.predict_classes(\n",
    "    X_test\n",
    ")\n",
    "num_preds = len(y_preds)\n",
    "\n",
    "classes = gtex_filt[\"type\"].unique()\n",
    "num_classes = len(classes)\n",
    "\n",
    "y_preds_onehot = np.zeros([num_preds, num_classes])\n",
    "y_preds_onehot[np.arange(num_preds), y_preds] = 1\n",
    "\n",
    "y_preds_labels = lb.inverse_transform(y_preds_onehot)\n",
    "\n",
    "print(\n",
    "    f\"macro-average F1 : {f1_score(y_test, y_preds_labels, average='macro')}\"\n",
    ")"
   ]
  }
 ],
 "metadata": {
  "kernelspec": {
   "display_name": "shapenv",
   "language": "python",
   "name": "shapenv"
  },
  "language_info": {
   "codemirror_mode": {
    "name": "ipython",
    "version": 3
   },
   "file_extension": ".py",
   "mimetype": "text/x-python",
   "name": "python",
   "nbconvert_exporter": "python",
   "pygments_lexer": "ipython3",
   "version": "3.7.9"
  }
 },
 "nbformat": 4,
 "nbformat_minor": 4
}