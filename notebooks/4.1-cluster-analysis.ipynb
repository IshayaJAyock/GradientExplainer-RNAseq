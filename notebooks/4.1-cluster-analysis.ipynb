{
 "cells": [
  {
   "cell_type": "markdown",
   "metadata": {},
   "source": [
    "# Cluster analysis - 1"
   ]
  },
  {
   "cell_type": "markdown",
   "metadata": {},
   "source": [
    "### Input files:\n",
    "1. *shap_genes.pkl*\n",
    "2. *edger_genes.pkl*\n",
    "3. *filtered_genes.pkl*\n",
    "4. *gtex_filtered_tmm_intersect_test.pkl*\n",
    "\n",
    "\n",
    "### Output files:\n",
    "1. *supp_fig7a.svg*\n",
    "2. *supp_fig7b.svg*\n",
    "3. *supp_fig7c.svg*\n",
    "4. *supp_fig7d.svg*\n",
    "5. *fig4d.svg*\n",
    "6. *shap_kmeans.pkl*\n",
    " \n",
    "### Table of contents:\n",
    "1. [Import Modules](#1.-Import-Modules)  \n",
    "2. [Set static paths](#2.-Set-static-paths)  \n",
    "3. [Load files](#3.-Load-files)  \n",
    "    3.1 [Load genes](#3.1-Load-genes)  \n",
    "    3.2 [Load test data](#3.1-Load-test-data)  \n",
    "4. [Process data](#4.-Process-data)  \n",
    "    4.1 [Transform data](#4.1-Transform-data)  \n",
    "    4.2 [Filter genes](#4.2-Filter-genes)  \n",
    "5. [Plot clusters](#5.-Plot-clusters)  \n",
    "6. [Measure clustering](#6.-Measure-clustering)  \n",
    "    6.1 [Calculate kmeans](#6.1-Calculate-kmeans)  \n",
    "    6.2 [Plot V-measure](#6.2-Plot-V-measure)  \n",
    "7. [Save out results](#6.-Save-out-results)  "
   ]
  },
  {
   "cell_type": "markdown",
   "metadata": {},
   "source": [
    "## 1. Import Modules"
   ]
  },
  {
   "cell_type": "code",
   "execution_count": null,
   "metadata": {},
   "outputs": [],
   "source": [
    "import os"
   ]
  },
  {
   "cell_type": "code",
   "execution_count": null,
   "metadata": {},
   "outputs": [],
   "source": [
    "util_path = '../src'\n",
    "os.chdir(util_path)"
   ]
  },
  {
   "cell_type": "code",
   "execution_count": null,
   "metadata": {},
   "outputs": [],
   "source": [
    "import pandas as pd\n",
    "import pickle\n",
    "from tqdm import tqdm\n",
    "from cluster import get_random_gene_df, get_kmeans_dict, get_p_value\n",
    "from vis import plot_umap\n",
    "from modelling.cnn import log_transform\n",
    "import statistics \n",
    "import math\n",
    "import numpy as np\n",
    "import seaborn as sns\n",
    "import matplotlib.pyplot as plt\n",
    "\n",
    "sns.set(rc={'figure.figsize':(11.7,8.27)})\n",
    "\n",
    "%load_ext autoreload\n",
    "%autoreload 2"
   ]
  },
  {
   "cell_type": "markdown",
   "metadata": {},
   "source": [
    "## 2. Set static paths"
   ]
  },
  {
   "cell_type": "code",
   "execution_count": null,
   "metadata": {},
   "outputs": [],
   "source": [
    "data_type = \"imbalanced\"\n",
    "data_dir = \"../data/\""
   ]
  },
  {
   "cell_type": "code",
   "execution_count": null,
   "metadata": {},
   "outputs": [],
   "source": [
    "input_dir = data_dir + \"processed/\"\n",
    "gene_dir = data_dir + \"gene_lists/\"\n",
    "fig_dir = \"../figures/\"\n",
    "output_dir = data_dir + \"processed/\""
   ]
  },
  {
   "cell_type": "markdown",
   "metadata": {},
   "source": [
    "## 3. Load files"
   ]
  },
  {
   "cell_type": "markdown",
   "metadata": {},
   "source": [
    "#### 3.1 Load genes"
   ]
  },
  {
   "cell_type": "code",
   "execution_count": null,
   "metadata": {},
   "outputs": [],
   "source": [
    "## SHAP genes\n",
    "with open(gene_dir + \"shap_genes.pkl\", \"rb\") as f:\n",
    "    shap_genes = pickle.load(f)\n",
    "    \n",
    "## EdgeR genes\n",
    "with open(gene_dir + \"edger_genes.pkl\", \"rb\") as f:\n",
    "    edger_genes = pickle.load(f)\n",
    "    \n",
    "## All genes\n",
    "with open(gene_dir + \"filtered_genes.pkl\", \"rb\") as f:\n",
    "    filtered_genes = pickle.load(f)"
   ]
  },
  {
   "cell_type": "markdown",
   "metadata": {},
   "source": [
    "#### 3.2 Load test data"
   ]
  },
  {
   "cell_type": "code",
   "execution_count": null,
   "metadata": {},
   "outputs": [],
   "source": [
    "## Test data\n",
    "with open(input_dir + \"gtex_filtered_tmm_intersect_test.pkl\", \"rb\") as f:\n",
    "    test_data = pickle.load(f)"
   ]
  },
  {
   "cell_type": "markdown",
   "metadata": {},
   "source": [
    "## 4. Process data"
   ]
  },
  {
   "cell_type": "markdown",
   "metadata": {},
   "source": [
    "#### 4.1 Transform data"
   ]
  },
  {
   "cell_type": "code",
   "execution_count": null,
   "metadata": {},
   "outputs": [],
   "source": [
    "test_data = log_transform(test_data, label=True)"
   ]
  },
  {
   "cell_type": "markdown",
   "metadata": {},
   "source": [
    "#### 4.2 Filter genes"
   ]
  },
  {
   "cell_type": "code",
   "execution_count": null,
   "metadata": {},
   "outputs": [],
   "source": [
    "# SHAP-selected genes\n",
    "shap_df = test_data.loc[:, shap_genes]\n",
    "shap_df[\"type\"] = test_data.loc[:, \"type\"]\n",
    "\n",
    "# # edgeR-selected genes\n",
    "\n",
    "edger_df = test_data.loc[:, edger_genes]\n",
    "edger_df[\"type\"] = test_data.loc[:, \"type\"]\n",
    "\n",
    "# fullset genes\n",
    "\n",
    "full_df = test_data.loc[:, filtered_genes]\n",
    "full_df[\"type\"] = test_data.loc[:, \"type\"]"
   ]
  },
  {
   "cell_type": "code",
   "execution_count": null,
   "metadata": {},
   "outputs": [],
   "source": [
    "random_df = get_random_gene_df(test_data, 2423)"
   ]
  },
  {
   "cell_type": "markdown",
   "metadata": {},
   "source": [
    "## 5. Plot clusters"
   ]
  },
  {
   "cell_type": "code",
   "execution_count": null,
   "metadata": {},
   "outputs": [],
   "source": [
    "random_list = []\n",
    "# SHAP UMAP\n",
    "shap_umap_df = plot_umap(\n",
    "    shap_df,\n",
    "    \"supp_fig7a\",\n",
    "    fig_dir,\n",
    "    label_col=\"type\",\n",
    "    seed=42,\n",
    ")\n",
    "\n",
    "#  EDGER UMAP\n",
    "edger_umap_df = plot_umap(\n",
    "    edger_df,\n",
    "    \"supp_fig7b\",\n",
    "    fig_dir,\n",
    "    label_col=\"type\",\n",
    "    seed=42,\n",
    ")\n",
    "\n",
    "# FULL UMAP\n",
    "full_umap_df = plot_umap(\n",
    "    full_df,\n",
    "    \"supp_fig7c\",\n",
    "    fig_dir,\n",
    "    label_col=\"type\",\n",
    "    seed=42,\n",
    ")\n",
    "\n",
    "# RANDOM SHAP UMAP\n",
    "rand_shap_umap_df = plot_umap(\n",
    "    random_df,\n",
    "    \"supp_fig7d\",\n",
    "    fig_dir,\n",
    "    label_col=\"type\",\n",
    "    seed=42,\n",
    ")\n",
    "random_list.append(rand_shap_umap_df)\n",
    "\n",
    "for i in range(9):\n",
    "    rand_shap_umap_df = plot_umap(\n",
    "        random_df,\n",
    "        \"supp_fig7d\",\n",
    "        fig_dir,\n",
    "        label_col=\"type\",\n",
    "        seed=42,\n",
    "        save_plot=False\n",
    "    )\n",
    "    random_list.append(rand_shap_umap_df)"
   ]
  },
  {
   "cell_type": "markdown",
   "metadata": {},
   "source": [
    "## 6. Measure clustering"
   ]
  },
  {
   "cell_type": "markdown",
   "metadata": {},
   "source": [
    "#### 6.1 Calculate kmeans"
   ]
  },
  {
   "cell_type": "code",
   "execution_count": null,
   "metadata": {},
   "outputs": [],
   "source": [
    "kmeans_dict = {}\n",
    "shap = []\n",
    "edger = []\n",
    "fullset = []\n",
    "random_shap_dict = {\n",
    "    0:[],\n",
    "    1:[],\n",
    "    2:[],\n",
    "    3:[],\n",
    "    4:[],\n",
    "    5:[],\n",
    "    6:[],\n",
    "    7:[],\n",
    "    8:[],\n",
    "    9:[]\n",
    "}"
   ]
  },
  {
   "cell_type": "code",
   "execution_count": null,
   "metadata": {},
   "outputs": [],
   "source": [
    "for x in tqdm(range(10)):\n",
    "    shap.append(get_kmeans_dict(shap_umap_df, \"type\"))\n",
    "    edger.append(get_kmeans_dict(edger_umap_df, \"type\"))\n",
    "    fullset.append(get_kmeans_dict(full_umap_df, \"type\"))\n",
    "    for i in range(10):\n",
    "        random_shap_dict[i].append(get_kmeans_dict(random_list[i], \"type\"))"
   ]
  },
  {
   "cell_type": "code",
   "execution_count": null,
   "metadata": {},
   "outputs": [],
   "source": [
    "kmeans_dict[\"SHAP\"] = shap\n",
    "kmeans_dict[\"EdgeR\"] = edger\n",
    "kmeans_dict[\"All\"] = fullset\n",
    "for i in range(10):\n",
    "    kmeans_dict[f\"Random SHAP {i}\"] = random_shap_dict[i]"
   ]
  },
  {
   "cell_type": "code",
   "execution_count": null,
   "metadata": {},
   "outputs": [],
   "source": [
    "random_shap_results = []\n",
    "shap_results = pd.DataFrame.from_dict(kmeans_dict[\"SHAP\"])\n",
    "edger_results = pd.DataFrame.from_dict(kmeans_dict[\"EdgeR\"])\n",
    "fullset_results = pd.DataFrame.from_dict(kmeans_dict[\"All\"])\n",
    "for i in range(10):\n",
    "    random_shap_results.append(pd.DataFrame.from_dict(kmeans_dict[f\"Random SHAP {i}\"]))"
   ]
  },
  {
   "cell_type": "code",
   "execution_count": null,
   "metadata": {},
   "outputs": [],
   "source": [
    "result_list = [shap_results, edger_results, fullset_results]"
   ]
  },
  {
   "cell_type": "code",
   "execution_count": null,
   "metadata": {},
   "outputs": [],
   "source": [
    "for i in range(10):\n",
    "    result_list.append(random_shap_results[i])"
   ]
  },
  {
   "cell_type": "code",
   "execution_count": null,
   "metadata": {},
   "outputs": [],
   "source": [
    "colour_map_rand = {\"SHAP\":\"r\", \"Random (n=2423)\":\"lightgray\",  \"All Genes\": \"b\", \"EdgeR\":\"g\"}"
   ]
  },
  {
   "cell_type": "markdown",
   "metadata": {},
   "source": [
    "#### 6.2 Plot V-measure"
   ]
  },
  {
   "cell_type": "code",
   "execution_count": null,
   "metadata": {},
   "outputs": [],
   "source": [
    "df_labels = [\"SHAP\", \"All Genes\",  \"EdgeR\", \"Random (n=2423)\", \"Random (n=2423)\", \"Random (n=2423)\", \"Random (n=2423)\", \"Random (n=2423)\", \"Random (n=2423)\", \"Random (n=2423)\", \"Random (n=2423)\", \"Random (n=2423)\", \"Random (n=2423)\", \"Random (n=2423)\"]\n",
    "metric = \"V-Measure\"\n",
    "for ix, i in enumerate(result_list):\n",
    "    sns.kdeplot(result_list[ix][metric], label=df_labels[ix], color=colour_map_rand[df_labels[ix]]).set_title(metric)\n",
    "plt.legend()\n",
    "sns.despine();\n",
    "file_path = fig_dir+\"fig4d.svg\"\n",
    "plt.savefig(file_path)"
   ]
  },
  {
   "cell_type": "code",
   "execution_count": null,
   "metadata": {},
   "outputs": [],
   "source": [
    "rand_mean = []\n",
    "for i in range(10):\n",
    "    rand_mean.append(random_shap_results[i][\"V-Measure\"].mean())"
   ]
  },
  {
   "cell_type": "code",
   "execution_count": null,
   "metadata": {},
   "outputs": [],
   "source": [
    "print(\"SHAP V-Measure:\", round(shap_results[\"V-Measure\"].mean(), 3))\n",
    "print(\"EdgeR V-Measure:\", round(edger_results[\"V-Measure\"].mean(), 3))\n",
    "print(\"All genes V-Measure:\", round(fullset_results[\"V-Measure\"].mean(), 3))\n",
    "print(\"Random SHAP V-Measures:\", round(min(rand_mean), 3), \"-\", round(max(rand_mean), 3))"
   ]
  },
  {
   "cell_type": "markdown",
   "metadata": {},
   "source": [
    "## 7. Save out results"
   ]
  },
  {
   "cell_type": "code",
   "execution_count": null,
   "metadata": {},
   "outputs": [],
   "source": [
    "shap_results.to_pickle(output_dir+\"shap_kmeans.pkl\")"
   ]
  }
 ],
 "metadata": {
  "kernelspec": {
   "display_name": "shapenv",
   "language": "python",
   "name": "shapenv"
  },
  "language_info": {
   "codemirror_mode": {
    "name": "ipython",
    "version": 3
   },
   "file_extension": ".py",
   "mimetype": "text/x-python",
   "name": "python",
   "nbconvert_exporter": "python",
   "pygments_lexer": "ipython3",
   "version": "3.7.9"
  }
 },
 "nbformat": 4,
 "nbformat_minor": 4
}
